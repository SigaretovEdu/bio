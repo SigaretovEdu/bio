{
 "cells": [
  {
   "attachments": {},
   "cell_type": "markdown",
   "metadata": {},
   "source": [
    "### Портнягин Егор 3 группа\n",
    "### Домашнее задание 6.\n",
    "### Номер варианта 21."
   ]
  },
  {
   "attachments": {},
   "cell_type": "markdown",
   "metadata": {},
   "source": [
    "### Часть 1. Задание 1,2."
   ]
  },
  {
   "attachments": {},
   "cell_type": "markdown",
   "metadata": {},
   "source": [
    "Белки для сравнения:\n",
    "<br>CK5P2_HUMAN (папка CK5P2)\n",
    "<br>DOB_HUMAN (папка DOB)\n",
    "<br>INP5E_HUMAN (папка INP5E)\n",
    "<br>NOD2_HUMAN (папка NOD2)\n",
    "<br>RHBG_HUMAN (папка RHBG)\n",
    "<br>SIA4A_HUMAN (папка SIA4A)\n",
    "<br>SIA4C_HUMAN (папка SIA4C)\n",
    "<br>SOMA_HUMAN (папка SOMA)\n",
    "<br>TBA1A_HUMAN (папка TBA1A)\n",
    "<br>TOMT_HUMAN (папка TOMT)\n",
    "\n",
    "Результаты выравниваний лежат в файлах *_OUTPUT\n",
    "<br>Среднее Identity    = 98.6%\n",
    "<br>Среднее Similarity  = 99.17%"
   ]
  },
  {
   "attachments": {},
   "cell_type": "markdown",
   "metadata": {},
   "source": [
    "Скрипт, извлекающий последовательности длиной 100: example.py. Геном человека скачан с сайта https://www.ncbi.nlm.nih.gov/projects/genome/guide/human/index.shtml (файл GRCh38_latest_genomic.fna)\n",
    "<br>Последовательности записываются в файл result.txt\n",
    "<br>result.txt подаём в бласт, скачиваем в виде таблицы(https://docs.google.com/spreadsheets/d/1xdo90RpcmPhnbIAx5wtZDPTRB382qffYuwtTwRKCX0M/edit?usp=sharing).  помощью Google Tables считаем среднее по третьем столбцу, получаем среднее identity = 91.44"
   ]
  },
  {
   "attachments": {},
   "cell_type": "markdown",
   "metadata": {},
   "source": [
    "### Часть 2. Задание 1."
   ]
  },
  {
   "attachments": {},
   "cell_type": "markdown",
   "metadata": {},
   "source": [
    "### Вопрос 0."
   ]
  },
  {
   "attachments": {},
   "cell_type": "markdown",
   "metadata": {},
   "source": [
    "После циклов отношениезагрязнённых молекул к \"чистым\" не изменяется, поэтому на 1 и 2 второй подвопрос ответ 2/5=0.4"
   ]
  },
  {
   "attachments": {},
   "cell_type": "markdown",
   "metadata": {},
   "source": [
    "### Вопрос 1 и 2"
   ]
  },
  {
   "attachments": {},
   "cell_type": "markdown",
   "metadata": {},
   "source": [
    "Закинули файл 21.fasta в бласт, получили файл allignment.json. С помощью скрипта parse.py анализируем файл"
   ]
  },
  {
   "cell_type": "code",
   "execution_count": null,
   "metadata": {},
   "outputs": [],
   "source": [
    "!python3 parse.py"
   ]
  },
  {
   "attachments": {},
   "cell_type": "markdown",
   "metadata": {},
   "source": [
    "По процентному содержанию видно, что скорее всего виновником загрязнения является собака, а значит и её хозяин Иванов"
   ]
  },
  {
   "attachments": {},
   "cell_type": "markdown",
   "metadata": {},
   "source": [
    "Для каждой записи высчитывается топ 10 хитов и считается какое количество раз появился каждый вид"
   ]
  },
  {
   "attachments": {},
   "cell_type": "markdown",
   "metadata": {},
   "source": [
    "### Часть 2. Задание 2."
   ]
  },
  {
   "attachments": {},
   "cell_type": "markdown",
   "metadata": {},
   "source": [
    "С помощью скрипта созданного в первой части выберем последовательсность длиной 100.\n",
    "\n",
    "GAGAGGAGCCATGCCTAGAGTGGGATGGGCCATTGTTCATCTTCTGGCCCCTGTTGTCTGCATGTAACTTAATACCACAACCAGGCATAGGGGAAAGATT\n",
    "\n",
    " Запишем последовательность в скрипт cut.py и создадим с его помощью файл short.fasta.\n",
    "\n",
    "short.fasta закидываем в бласт и скачиваем результаты ввиде json файла last.json"
   ]
  },
  {
   "attachments": {},
   "cell_type": "markdown",
   "metadata": {},
   "source": [
    "С помощью скрипта last.py для каждого из фрагментов находим лучшее evalue."
   ]
  },
  {
   "cell_type": "code",
   "execution_count": 2,
   "metadata": {},
   "outputs": [
    {
     "name": "stdout",
     "output_type": "stream",
     "text": [
      "100 1.51614e-41\n",
      "99 5.20787e-41\n",
      "98 1.78841e-40\n",
      "97 6.13982e-40\n",
      "96 2.10729e-39\n",
      "95 7.2305e-39\n",
      "94 2.48018e-38\n",
      "93 8.50481e-38\n",
      "92 2.91546e-37\n",
      "91 9.99095e-37\n",
      "90 3.42261e-36\n",
      "89 1.17207e-35\n",
      "88 4.01225e-35\n",
      "87 1.37295e-34\n",
      "86 4.69623e-34\n",
      "85 1.60569e-33\n",
      "84 5.48767e-33\n",
      "83 1.87463e-32\n",
      "82 6.40086e-32\n",
      "81 2.18447e-31\n",
      "80 7.45128e-31\n",
      "79 2.54027e-30\n",
      "78 8.6553e-30\n",
      "77 2.94731e-29\n",
      "76 1.003e-28\n",
      "75 3.41104e-28\n",
      "74 1.15924e-27\n",
      "73 4.04647e-27\n",
      "72 1.37418e-26\n",
      "71 4.66314e-26\n",
      "70 1.58109e-25\n",
      "69 5.35625e-25\n",
      "68 1.81286e-24\n",
      "67 6.12978e-24\n",
      "66 2.07049e-23\n",
      "65 6.98582e-23\n",
      "64 2.35421e-22\n",
      "63 7.92354e-22\n",
      "62 2.66316e-21\n",
      "61 8.93782e-21\n",
      "60 2.99482e-20\n",
      "59 1.00174e-19\n",
      "58 3.3444e-19\n",
      "57 1.11425e-18\n",
      "56 3.70393e-18\n",
      "55 1.22816e-17\n",
      "54 4.06107e-17\n",
      "53 1.33871e-16\n",
      "52 4.67293e-16\n",
      "51 1.53507e-15\n",
      "50 5.02305e-15\n",
      "49 1.63634e-14\n",
      "48 5.30342e-14\n",
      "47 1.70869e-13\n",
      "46 5.46691e-13\n",
      "45 1.73467e-12\n",
      "44 5.44914e-12\n",
      "43 1.69061e-11\n",
      "42 5.90129e-11\n",
      "41 1.80228e-10\n",
      "40 5.39193e-10\n",
      "39 1.56831e-09\n",
      "38 4.37915e-09\n",
      "37 1.5286e-08\n",
      "36 4.0015e-08\n",
      "35 1.39677e-07\n",
      "34 4.87562e-07\n",
      "33 1.7019e-06\n",
      "32 5.9407e-06\n",
      "31 2.07368e-05\n",
      "30 7.23844e-05\n",
      "29 0.000252667\n",
      "28 0.000881967\n",
      "27 0.00307862\n",
      "26 0.0107463\n",
      "25 0.0375114\n",
      "24 1000\n",
      "23 1000\n",
      "22 1000\n",
      "21 1000\n",
      "20 1000\n",
      "19 1000\n",
      "18 1000\n",
      "17 1000\n",
      "16 1000\n",
      "15 1000\n",
      "14 1000\n",
      "13 1000\n",
      "12 1000\n",
      "11 1000\n",
      "10 1000\n",
      "9 1000\n",
      "8 1000\n",
      "7 1000\n",
      "6 1000\n",
      "5 1000\n",
      "4 1000\n",
      "3 1000\n",
      "2 1000\n",
      "1 1000\n"
     ]
    }
   ],
   "source": [
    "!python3 last.py"
   ]
  },
  {
   "attachments": {},
   "cell_type": "markdown",
   "metadata": {},
   "source": [
    "Видим, что, при длине меньше 25, evalue становится больше 0.05"
   ]
  }
 ],
 "metadata": {
  "kernelspec": {
   "display_name": "Python 3",
   "language": "python",
   "name": "python3"
  },
  "language_info": {
   "codemirror_mode": {
    "name": "ipython",
    "version": 3
   },
   "file_extension": ".py",
   "mimetype": "text/x-python",
   "name": "python",
   "nbconvert_exporter": "python",
   "pygments_lexer": "ipython3",
   "version": "3.11.3"
  },
  "orig_nbformat": 4,
  "vscode": {
   "interpreter": {
    "hash": "e7370f93d1d0cde622a1f8e1c04877d8463912d04d973331ad4851f04de6915a"
   }
  }
 },
 "nbformat": 4,
 "nbformat_minor": 2
}
