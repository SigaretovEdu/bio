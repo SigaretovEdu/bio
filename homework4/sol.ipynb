{
 "cells": [
  {
   "attachments": {},
   "cell_type": "markdown",
   "metadata": {},
   "source": [
    "Скачали базу по генотипированию пользователя 9343 (https://opensnp.org/users/11425)"
   ]
  },
  {
   "cell_type": "code",
   "execution_count": 2,
   "metadata": {},
   "outputs": [],
   "source": [
    "data = {}\n",
    "with open(\"11425.23andme.9343\", 'r') as f:\n",
    "    lines = f.readlines()[1:]\n",
    "    for line in lines:\n",
    "        s = line.replace('\\n', '').split('\\t')\n",
    "        data[s[0]] = s[1:]"
   ]
  },
  {
   "cell_type": "code",
   "execution_count": 3,
   "metadata": {},
   "outputs": [
    {
     "name": "stdout",
     "output_type": "stream",
     "text": [
      "rs12913832\t15\t28365618\tAG\t\n",
      "rs1800407\t15\t28230318\tCC\t\n",
      "rs12896399\t14\t92773663\tGT\t\n",
      "rs16891982\t5\t33951693\tGG\t\n",
      "rs1393350\t11\t89011046\tAA\t\n",
      "rs12203592\t6\t396321\tCC\t\n"
     ]
    }
   ],
   "source": [
    "s = ['rs12913832', 'rs1800407', 'rs12896399', 'rs16891982', 'rs1393350', 'rs12203592']\n",
    "for id in s:\n",
    "    print(id, end='\\t')\n",
    "    for item in data[id]:\n",
    "        print(item, end='\\t')\n",
    "    print()"
   ]
  },
  {
   "attachments": {},
   "cell_type": "markdown",
   "metadata": {},
   "source": [
    "Чтобы узнать цвет глаз, необходимо найти значения при rs12913832, rs1800407, rs12896399, rs16891982, rs1393350, rs12203592 и внести их в таблицу IrisPlex"
   ]
  },
  {
   "attachments": {},
   "cell_type": "markdown",
   "metadata": {},
   "source": [
    "![eye color prediction](2023-03-01_01-42.png)"
   ]
  },
  {
   "attachments": {},
   "cell_type": "markdown",
   "metadata": {},
   "source": [
    "Далее узнаем вероятность тромбоза, рассмотрев rs6025 (F5, factor V Leiden), rs1799963 (F2, 20210 G > A), rs8176719 (ABO), rs2066865 (FGG, 10034 C > T), rs2036914 (F11)"
   ]
  },
  {
   "cell_type": "code",
   "execution_count": 4,
   "metadata": {},
   "outputs": [
    {
     "name": "stdout",
     "output_type": "stream",
     "text": [
      "rs6025\t1\t169519049\tCC\t\n",
      "rs8176719\t9\t136132909\tDD\t\n",
      "rs2066865\t4\t155525276\tGG\t\n",
      "rs2036914\t4\t187192481\tCC\t\n"
     ]
    }
   ],
   "source": [
    "s = ['rs6025', 'rs1799963', 'rs8176719', 'rs2066865', 'rs2036914']\n",
    "for id in s:\n",
    "    if id in data.keys():\n",
    "        print(id, end='\\t')\n",
    "        for item in data[id]:\n",
    "            print(item, end='\\t')\n",
    "        print()"
   ]
  },
  {
   "attachments": {},
   "cell_type": "markdown",
   "metadata": {},
   "source": [
    "Рискованные:\n",
    "rs6025      -   AA\n",
    "rs1799963   -   AA\n",
    "rs8176719   -   GG\n",
    "rs2066865   -   TT\n",
    "rs2036914   -   CC\n",
    "\n",
    "У данного человека генотип rs2036914 - рискованный"
   ]
  },
  {
   "attachments": {},
   "cell_type": "markdown",
   "metadata": {},
   "source": [
    "Для заданий 3-5 проверим следующие SNP:\n",
    "<br>rs386834236 - known to cause Pompe disease\n",
    "<br>rs1805008 - associated with one or more forms of skin cancer\n",
    "<br>rs61753344 - potentially be linked to trimethylaminuria"
   ]
  },
  {
   "cell_type": "code",
   "execution_count": 8,
   "metadata": {},
   "outputs": [
    {
     "name": "stdout",
     "output_type": "stream",
     "text": [
      "rs386834236\t17\t78078341\tTT\t"
     ]
    }
   ],
   "source": [
    "print('rs386834236', end='\\t')\n",
    "for item in data['rs386834236']:\n",
    "    print(item, end = '\\t')"
   ]
  },
  {
   "attachments": {},
   "cell_type": "markdown",
   "metadata": {},
   "source": [
    "![rs386834236](2023-03-01_03-27.png)"
   ]
  },
  {
   "attachments": {},
   "cell_type": "markdown",
   "metadata": {},
   "source": [
    "для rs386834236 ничего интересного нет"
   ]
  },
  {
   "cell_type": "code",
   "execution_count": 10,
   "metadata": {},
   "outputs": [
    {
     "name": "stdout",
     "output_type": "stream",
     "text": [
      "rs1805008\t16\t89986144\tCC\t"
     ]
    }
   ],
   "source": [
    "print('rs1805008', end='\\t')\n",
    "for item in data['rs1805008']:\n",
    "    print(item, end = '\\t')"
   ]
  },
  {
   "attachments": {},
   "cell_type": "markdown",
   "metadata": {},
   "source": [
    "![rs1805008](2023-03-01_03-33.png)"
   ]
  },
  {
   "attachments": {},
   "cell_type": "markdown",
   "metadata": {},
   "source": [
    "для rs1805008 ничего интересного нет"
   ]
  },
  {
   "cell_type": "code",
   "execution_count": 11,
   "metadata": {},
   "outputs": [
    {
     "name": "stdout",
     "output_type": "stream",
     "text": [
      "rs61753344\t1\t171083232\tGG\t"
     ]
    }
   ],
   "source": [
    "print('rs61753344', end='\\t')\n",
    "for item in data['rs61753344']:\n",
    "    print(item, end = '\\t')"
   ]
  },
  {
   "attachments": {},
   "cell_type": "markdown",
   "metadata": {},
   "source": [
    "![rs61753344](2023-03-01_03-37.png)"
   ]
  },
  {
   "attachments": {},
   "cell_type": "markdown",
   "metadata": {},
   "source": [
    "для rs61753344 ничего интересного нет"
   ]
  }
 ],
 "metadata": {
  "kernelspec": {
   "display_name": "Python 3",
   "language": "python",
   "name": "python3"
  },
  "language_info": {
   "codemirror_mode": {
    "name": "ipython",
    "version": 3
   },
   "file_extension": ".py",
   "mimetype": "text/x-python",
   "name": "python",
   "nbconvert_exporter": "python",
   "pygments_lexer": "ipython3",
   "version": "3.10.9"
  },
  "orig_nbformat": 4,
  "vscode": {
   "interpreter": {
    "hash": "e7370f93d1d0cde622a1f8e1c04877d8463912d04d973331ad4851f04de6915a"
   }
  }
 },
 "nbformat": 4,
 "nbformat_minor": 2
}
