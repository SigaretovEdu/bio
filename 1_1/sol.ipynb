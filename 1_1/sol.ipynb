{
 "cells": [
  {
   "cell_type": "markdown",
   "source": [
    "# Домашнее задание №1 Егор Портнягин\n",
    "## Задания:\n",
    "Проанализировать геном <b>Acetobacter aceti</b>, ответить на следующие вопросы:\n",
    "1. Какова длина генома (файл .fna)\n",
    "2. Сколько генов, кодирующих белки?\n",
    "3. Сколько рнк-генов?\n",
    "4. Сколько транскрипционных факторов?\n",
    "5. Сколько транспортных белков (ABC transporters)?\n",
    "6. Сколько tRNA?\n",
    "7. Сколько закодировано субъединиц АTP-synthase?\n",
    "8. Сколько генов закодировано на положительном, а сколько на отрицательном стренде?\n",
    "\n",
    "Проанализировать геном <b>APC</b> и сделать следующее:\n",
    "1. В геномном браузере UCSC отобразить все изоформы гена, а также SNPs (Common dbSNP(155) и ClinVar dbSNP(155)), участки консервативности среди позвоночных и транспозоны. Сохранить скриншот в виде графического файла.\n",
    "2. Отобрать в табличном виде и сохранить в текстовый файл все изоформы генов, попавших в заданный участок\n",
    "3. Отобрать координаты только экзонов и только интронов для заданного участка.\n",
    "4. Ответить письменно, в какие участки гена попадают clinically relevant SNPs.\n",
    "5. Ответить письменно, в какие участки гена попадают транспозоны."
   ],
   "metadata": {
    "collapsed": false,
    "pycharm": {
     "name": "#%% md\n"
    }
   }
  },
  {
   "cell_type": "code",
   "execution_count": 2,
   "outputs": [],
   "source": [
    "import Bio\n",
    "import os.path\n",
    "import wget\n",
    "import gzip"
   ],
   "metadata": {
    "collapsed": false,
    "pycharm": {
     "name": "#%%\n"
    }
   }
  },
  {
   "cell_type": "markdown",
   "source": [
    "Скачиваем файлы, если они ещё не скачаны"
   ],
   "metadata": {
    "collapsed": false,
    "pycharm": {
     "name": "#%% md\n"
    }
   }
  },
  {
   "cell_type": "code",
   "execution_count": 3,
   "outputs": [
    {
     "name": "stdout",
     "output_type": "stream",
     "text": [
      "already exist GCF_000193495.2_ASM19349v2_genomic.fna.gz already exist\n",
      "already exist GCF_000193495.2_ASM19349v2_feature_table.txt.gz\n"
     ]
    }
   ],
   "source": [
    "if not (os.path.exists(\"GCF_000193495.2_ASM19349v2_genomic.fna.gz\")):\n",
    "    url = \"https://ftp.ncbi.nlm.nih.gov/genomes/refseq/bacteria/Acetobacter_aceti/latest_assembly_versions/GCF_000193495.2_ASM19349v2/GCF_000193495.2_ASM19349v2_genomic.fna.gz\"\n",
    "    try:\n",
    "        fna_z = wget.download(url)\n",
    "    except:\n",
    "        print(\"failed to download GCF_000193495.2_ASM19349v2_genomic.fna.gz\")\n",
    "    if (os.path.exists(\"GCF_000193495.2_ASM19349v2_genomic.fna.gz\")):\n",
    "        print(\"successfully downloaded GCF_000193495.2_ASM19349v2_genomic.fna.gz\")\n",
    "else:\n",
    "    print(\"already exist GCF_000193495.2_ASM19349v2_genomic.fna.gz already exist\")\n",
    "\n",
    "if not (os.path.exists(\"GCF_000193495.2_ASM19349v2_feature_table.txt.gz\")):\n",
    "    url = \"https://ftp.ncbi.nlm.nih.gov/genomes/refseq/bacteria/Acetobacter_aceti/latest_assembly_versions/GCF_000193495.2_ASM19349v2/GCF_000193495.2_ASM19349v2_feature_table.txt.gz\"\n",
    "    try:\n",
    "        ft_z = wget.download(url)\n",
    "    except:\n",
    "        print(\"failed to download GCF_000193495.2_ASM19349v2_feature_table.txt.gz\")\n",
    "    if (os.path.exists(\"GCF_000193495.2_ASM19349v2_feature_table.txt.gz\")):\n",
    "        print(\"successfully downloaded GCF_000193495.2_ASM19349v2_feature_table.txt.gz\")\n",
    "else:\n",
    "    print(\"already exist GCF_000193495.2_ASM19349v2_feature_table.txt.gz\")"
   ],
   "metadata": {
    "collapsed": false,
    "pycharm": {
     "name": "#%%\n"
    }
   }
  },
  {
   "cell_type": "markdown",
   "source": [
    "Разархивируем файлы, если необходимо"
   ],
   "metadata": {
    "collapsed": false,
    "pycharm": {
     "name": "#%% md\n"
    }
   }
  },
  {
   "cell_type": "code",
   "execution_count": 4,
   "outputs": [
    {
     "name": "stdout",
     "output_type": "stream",
     "text": [
      "already exist GCF_000193495.2_ASM19349v2_genomic.fna\n",
      "already exist GCF_000193495.2_ASM19349v2_feature_table.txt\n"
     ]
    }
   ],
   "source": [
    "if not (os.path.exists(\"GCF_000193495.2_ASM19349v2_genomic.fna\")):\n",
    "    fna = fna_z.replace(\".gz\", \"\")\n",
    "    g_fna = gzip.GzipFile(fna_z)\n",
    "    open(fna, \"wb+\").write(g_fna.read())\n",
    "    g_fna.close()\n",
    "    print(\"unziped GCF_000193495.2_ASM19349v2_genomic.fna\")\n",
    "else:\n",
    "    print(\"already exist GCF_000193495.2_ASM19349v2_genomic.fna\")\n",
    "\n",
    "if not (os.path.exists(\"GCF_000193495.2_ASM19349v2_feature_table.txt\")):\n",
    "    ft = ft_z.replace(\".gz\", \"\")\n",
    "    g_ft = gzip.GzipFile(ft_z)\n",
    "    open(ft, \"wb+\").write(g_ft.read())\n",
    "    g_ft.close()\n",
    "    print(\"unziped GCF_000193495.2_ASM19349v2_feature_table.txt\")\n",
    "else:\n",
    "    print(\"already exist GCF_000193495.2_ASM19349v2_feature_table.txt\")"
   ],
   "metadata": {
    "collapsed": false,
    "pycharm": {
     "name": "#%%\n"
    }
   }
  },
  {
   "cell_type": "markdown",
   "source": [
    "1. Посчитаем длину генома"
   ],
   "metadata": {
    "collapsed": false,
    "pycharm": {
     "name": "#%% md\n"
    }
   }
  },
  {
   "cell_type": "code",
   "execution_count": 5,
   "outputs": [
    {
     "name": "stdout",
     "output_type": "stream",
     "text": [
      "len of genom:  3693438\n"
     ]
    }
   ],
   "source": [
    "with open(\"GCF_000193495.2_ASM19349v2_genomic.fna\", \"r\") as fna:\n",
    "    lines = fna.readlines()\n",
    "    print(\"len of genom: \", sum([len(lines[i].replace(\"\\n\", \"\")) for i in range(1, len(lines))]))"
   ],
   "metadata": {
    "collapsed": false,
    "pycharm": {
     "name": "#%%\n"
    }
   }
  },
  {
   "cell_type": "markdown",
   "source": [
    "2. Посчитаем количество генов, кодирующих белки"
   ],
   "metadata": {
    "collapsed": false,
    "pycharm": {
     "name": "#%% md\n"
    }
   }
  },
  {
   "cell_type": "code",
   "execution_count": 6,
   "outputs": [
    {
     "name": "stdout",
     "output_type": "stream",
     "text": [
      "Генов, кодирующих белки:  3259\n"
     ]
    }
   ],
   "source": [
    "with open(\"GCF_000193495.2_ASM19349v2_feature_table.txt\", \"r\") as ft:\n",
    "    count = 0\n",
    "    for line in ft.readlines():\n",
    "        if \"protein_coding\" in line:\n",
    "            count += 1\n",
    "    print(\"Генов, кодирующих белки: \", count)"
   ],
   "metadata": {
    "collapsed": false,
    "pycharm": {
     "name": "#%%\n"
    }
   }
  },
  {
   "cell_type": "markdown",
   "source": [
    "3. Посчитаем количество рнк-генов"
   ],
   "metadata": {
    "collapsed": false,
    "pycharm": {
     "name": "#%% md\n"
    }
   }
  },
  {
   "cell_type": "code",
   "execution_count": 7,
   "outputs": [
    {
     "name": "stdout",
     "output_type": "stream",
     "text": [
      "Количество рнк-генов:  185\n"
     ]
    }
   ],
   "source": [
    "with open(\"GCF_000193495.2_ASM19349v2_feature_table.txt\", \"r\") as ft:\n",
    "    count = 0\n",
    "    for line in ft.readlines():\n",
    "        if (\"ncRNA\" in line) or (\"tRNA\" in line) or (\"rRNA\" in line) or (\"tmRNA\" in line):\n",
    "            count += 1\n",
    "    print(\"Количество рнк-генов: \", count)"
   ],
   "metadata": {
    "collapsed": false,
    "pycharm": {
     "name": "#%%\n"
    }
   }
  },
  {
   "cell_type": "markdown",
   "source": [
    "4. Посчитаем количество транскрипционных факторов"
   ],
   "metadata": {
    "collapsed": false,
    "pycharm": {
     "name": "#%% md\n"
    }
   }
  },
  {
   "cell_type": "code",
   "execution_count": 8,
   "outputs": [
    {
     "name": "stdout",
     "output_type": "stream",
     "text": [
      "Количество транскрипционных факторов:  102\n"
     ]
    }
   ],
   "source": [
    "with open(\"GCF_000193495.2_ASM19349v2_feature_table.txt\", \"r\") as ft:\n",
    "    count = 0\n",
    "    for line in ft.readlines():\n",
    "        if \"transcriptional regulator\" in line:\n",
    "            count += 1\n",
    "    print(\"Количество транскрипционных факторов: \", count)"
   ],
   "metadata": {
    "collapsed": false,
    "pycharm": {
     "name": "#%%\n"
    }
   }
  },
  {
   "cell_type": "markdown",
   "source": [
    "5. Посчитаем количество транспортных белков (ABC transporters)"
   ],
   "metadata": {
    "collapsed": false,
    "pycharm": {
     "name": "#%% md\n"
    }
   }
  },
  {
   "cell_type": "code",
   "execution_count": 9,
   "outputs": [
    {
     "name": "stdout",
     "output_type": "stream",
     "text": [
      "Количество транспортных белков (ABC transporters):  102\n"
     ]
    }
   ],
   "source": [
    "with open(\"GCF_000193495.2_ASM19349v2_feature_table.txt\", \"r\") as ft:\n",
    "    count = 0\n",
    "    for line in ft.readlines():\n",
    "        if \"ABC transporter\" in line:\n",
    "            count += 1\n",
    "    print(\"Количество транспортных белков (ABC transporters): \", count)"
   ],
   "metadata": {
    "collapsed": false,
    "pycharm": {
     "name": "#%%\n"
    }
   }
  },
  {
   "cell_type": "markdown",
   "source": [
    "6. Посчитаем количество tRNA"
   ],
   "metadata": {
    "collapsed": false,
    "pycharm": {
     "name": "#%% md\n"
    }
   }
  },
  {
   "cell_type": "code",
   "execution_count": 10,
   "outputs": [
    {
     "name": "stdout",
     "output_type": "stream",
     "text": [
      "Количество tRNA:  149\n"
     ]
    }
   ],
   "source": [
    "with open(\"GCF_000193495.2_ASM19349v2_feature_table.txt\", \"r\") as ft:\n",
    "    count = 0\n",
    "    for line in ft.readlines():\n",
    "        if \"tRNA\" in line:\n",
    "            count += 1\n",
    "    print(\"Количество tRNA: \", count)"
   ],
   "metadata": {
    "collapsed": false,
    "pycharm": {
     "name": "#%%\n"
    }
   }
  },
  {
   "cell_type": "markdown",
   "source": [
    "7. Посчитаем количество субъединиц АTP-synthase"
   ],
   "metadata": {
    "collapsed": false,
    "pycharm": {
     "name": "#%% md\n"
    }
   }
  },
  {
   "cell_type": "code",
   "execution_count": 12,
   "outputs": [
    {
     "name": "stdout",
     "output_type": "stream",
     "text": [
      "Количество субъединиц АTP-synthase:  9\n"
     ]
    }
   ],
   "source": [
    "with open(\"GCF_000193495.2_ASM19349v2_feature_table.txt\", \"r\") as ft:\n",
    "    count = 0\n",
    "    for line in ft.readlines():\n",
    "        if \"ATP synthase\" in line:\n",
    "            count += 1\n",
    "    print(\"Количество субъединиц АTP-synthase: \", count)"
   ],
   "metadata": {
    "collapsed": false,
    "pycharm": {
     "name": "#%%\n"
    }
   }
  },
  {
   "cell_type": "markdown",
   "source": [
    "8. Посчитаем количество генов, закодированных на положительном и на отрицательном стендах"
   ],
   "metadata": {
    "collapsed": false,
    "pycharm": {
     "name": "#%% md\n"
    }
   }
  },
  {
   "cell_type": "code",
   "execution_count": 18,
   "outputs": [
    {
     "name": "stdout",
     "output_type": "stream",
     "text": [
      "Количество генов, закодированных на отрицательном стенде:  1694\n",
      "Количество генов, закодированных на положительном стенде:  1724\n"
     ]
    }
   ],
   "source": [
    "with open(\"GCF_000193495.2_ASM19349v2_feature_table.txt\", \"r\") as ft:\n",
    "    minus, plus = 0, 0\n",
    "    for line in ft.readlines():\n",
    "        if \"gene\" in line:\n",
    "            if \"+\" in line:\n",
    "                plus += 1\n",
    "            elif \"-\" in line:\n",
    "                minus += 1\n",
    "    print(\"Количество генов, закодированных на отрицательном стенде: \", minus)\n",
    "    print(\"Количество генов, закодированных на положительном стенде: \", plus)"
   ],
   "metadata": {
    "collapsed": false,
    "pycharm": {
     "name": "#%%\n"
    }
   }
  },
  {
   "cell_type": "markdown",
   "source": [
    "В геномном браузере UCSC отобразии все изоформы гена, а также SNPs (Common dbSNP(155) и ClinVar dbSNP(155)), участки консервативности среди позвоночных и транспозоны. Сохранили скриншот в виде графического файла"
   ],
   "metadata": {
    "collapsed": false,
    "pycharm": {
     "name": "#%% md\n"
    }
   }
  },
  {
   "cell_type": "markdown",
   "source": [
    "![jupiter](pic.png)"
   ],
   "metadata": {
    "collapsed": false,
    "pycharm": {
     "name": "#%% md\n"
    }
   }
  },
  {
   "cell_type": "markdown",
   "source": [],
   "metadata": {
    "collapsed": false,
    "pycharm": {
     "name": "#%% md\n"
    }
   }
  }
 ],
 "metadata": {
  "kernelspec": {
   "display_name": "Python 3",
   "language": "python",
   "name": "python3"
  },
  "language_info": {
   "codemirror_mode": {
    "name": "ipython",
    "version": 2
   },
   "file_extension": ".py",
   "mimetype": "text/x-python",
   "name": "python",
   "nbconvert_exporter": "python",
   "pygments_lexer": "ipython2",
   "version": "2.7.6"
  }
 },
 "nbformat": 4,
 "nbformat_minor": 0
}